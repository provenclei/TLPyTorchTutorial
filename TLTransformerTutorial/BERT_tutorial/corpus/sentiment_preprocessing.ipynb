{
 "cells": [
  {
   "cell_type": "code",
   "execution_count": 1,
   "metadata": {},
   "outputs": [],
   "source": [
    "# 训练数据预处理\n",
    "import numpy as np\n",
    "from sklearn.utils import shuffle\n",
    "import os\n",
    "import matplotlib.pyplot as plt"
   ]
  },
  {
   "cell_type": "code",
   "execution_count": 2,
   "metadata": {},
   "outputs": [],
   "source": [
    "# 评论语料目录\n",
    "hotel_feedbacks_dir = \"./hotel_feedbacks_sentiment\""
   ]
  },
  {
   "cell_type": "code",
   "execution_count": 4,
   "metadata": {},
   "outputs": [],
   "source": [
    "# all_positive和all_negative含有所有的正样本和负样本\n",
    "with open(hotel_feedbacks_dir + \"/\" + \"neg.txt\", \"r\", encoding=\"utf-8\") as f:\n",
    "    all_negative = [line.strip() for line in f.readlines()]\n",
    "with open(hotel_feedbacks_dir + \"/\" + \"pos.txt\", \"r\", encoding=\"utf-8\") as f:\n",
    "    all_positive = [line.strip() for line in f.readlines()]"
   ]
  },
  {
   "cell_type": "code",
   "execution_count": 20,
   "metadata": {},
   "outputs": [
    {
     "name": "stdout",
     "output_type": "stream",
     "text": [
      "不错，下次还考虑入住。交通也方便，在餐厅吃的也不错。\n"
     ]
    }
   ],
   "source": [
    "print(all_positive[2])"
   ]
  },
  {
   "cell_type": "code",
   "execution_count": 5,
   "metadata": {},
   "outputs": [],
   "source": [
    "# 获取所有文本的长度\n",
    "all_length = [len(i) for i in all_negative] + [len(i) for i in all_positive]"
   ]
  },
  {
   "cell_type": "code",
   "execution_count": 6,
   "metadata": {},
   "outputs": [
    {
     "data": {
      "image/png": "[encoded data removed]",
      "text/plain": [
       "<Figure size 432x288 with 1 Axes>"
      ]
     },
     "metadata": {
      "needs_background": "light"
     },
     "output_type": "display_data"
    }
   ],
   "source": [
    "# 可视化语料序列长度, 可见大部分文本的长度都在300以下\n",
    "plt.hist(all_length, bins=30)\n",
    "plt.show()"
   ]
  },
  {
   "cell_type": "code",
   "execution_count": 30,
   "metadata": {},
   "outputs": [
    {
     "data": {
      "text/plain": [
       "0.9346"
      ]
     },
     "execution_count": 30,
     "metadata": {},
     "output_type": "execute_result"
    }
   ],
   "source": [
    "np.mean(np.array(all_length) < 300)"
   ]
  },
  {
   "cell_type": "code",
   "execution_count": 7,
   "metadata": {},
   "outputs": [],
   "source": [
    "# 把所有的语料放到list里, 每一条语料是一个dict: {\"text\":文本, \"label\":分类}\n",
    "all_data = []\n",
    "for text in all_positive:\n",
    "    all_data.append({\"text\": text, \"label\": 1})\n",
    "for text in all_negative:\n",
    "    all_data.append({\"text\": text, \"label\": 0})"
   ]
  },
  {
   "cell_type": "code",
   "execution_count": 10,
   "metadata": {},
   "outputs": [],
   "source": [
    "# shuffle打乱顺序\n",
    "all_data = shuffle(all_data, random_state=1)"
   ]
  },
  {
   "cell_type": "code",
   "execution_count": 11,
   "metadata": {},
   "outputs": [],
   "source": [
    "# 拿出5%的数据用来测试\n",
    "test_proportion = 0.05\n",
    "test_idx = int(len(all_data) * test_proportion)"
   ]
  },
  {
   "cell_type": "code",
   "execution_count": 12,
   "metadata": {},
   "outputs": [],
   "source": [
    "# 分割训练集和测试集\n",
    "test_data = all_data[:test_idx]\n",
    "train_data = all_data[test_idx:]"
   ]
  },
  {
   "cell_type": "code",
   "execution_count": 14,
   "metadata": {},
   "outputs": [],
   "source": [
    "# 输出训练集和测试集为txt文件, 每一行为一个dict: {\"text\":文本, \"label\":分类}\n",
    "with open(\"train_sentiment.txt\", \"a\", encoding=\"utf-8\") as f:\n",
    "    for line in train_data:\n",
    "        f.write(str(line))\n",
    "        f.write(\"\\n\")\n",
    "with open(\"test_sentiment.txt\", \"a\", encoding=\"utf-8\") as f:\n",
    "    for line in test_data:\n",
    "        f.write(str(line))\n",
    "        f.write(\"\\n\")  "
   ]
  },
  {
   "cell_type": "code",
   "execution_count": null,
   "metadata": {},
   "outputs": [],
   "source": []
  }
 ],
 "metadata": {
  "kernelspec": {
   "display_name": "Python 3",
   "language": "python",
   "name": "python3"
  },
  "language_info": {
   "codemirror_mode": {
    "name": "ipython",
    "version": 3
   },
   "file_extension": ".py",
   "mimetype": "text/x-python",
   "name": "python",
   "nbconvert_exporter": "python",
   "pygments_lexer": "ipython3",
   "version": "3.6.8"
  }
 },
 "nbformat": 4,
 "nbformat_minor": 2
}
